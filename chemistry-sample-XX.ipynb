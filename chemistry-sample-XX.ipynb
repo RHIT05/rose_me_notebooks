{
 "cells": [
  {
   "cell_type": "markdown",
   "metadata": {},
   "source": [
    "# Chemistry Homework / Lab"
   ]
  },
  {
   "cell_type": "code",
   "execution_count": 1,
   "metadata": {},
   "outputs": [],
   "source": [
    "from collections import defaultdict\n",
    "from chempy import Species, Equilibrium, Henry\n",
    "from chempy.equilibria import EqSystem\n",
    "from chempy.units import default_units as u"
   ]
  },
  {
   "cell_type": "code",
   "execution_count": 2,
   "metadata": {},
   "outputs": [],
   "source": [
    "species_keys = 'CO2(g) CO2(aq) H2O H2CO3 H+ HCO3- CO3-2 Ca+2 CaCO3(s)'.split()\n",
    "eq_str = \"\"\"\n",
    "CO2(aq) = CO2(g); chempy.henry.HenryWithUnits(3.3e-4 * molar / Pa, 2400 * K)\n",
    "CO2(aq) + H2O = H2CO3; 1.7e-3/55.4\n",
    "H2CO3 = H+ + HCO3-; 10**-3.6\n",
    "HCO3- = H+ + CO3-2; 10**-10.329\n",
    "CaCO3(s) = Ca+2 + CO3-2; 3.3e-9\n",
    "\"\"\"  # eventually: 55.4 <- [H2O]"
   ]
  },
  {
   "cell_type": "code",
   "execution_count": 3,
   "metadata": {},
   "outputs": [
    {
     "name": "stdout",
     "output_type": "stream",
     "text": [
      "CO2(aq) = CO2(g); HenryWithUnits(Hcp=array(0.00033) * M/Pa, Tderiv=array(2400.) * K, T0=None, ref=None)\n",
      "CO2(aq) + H2O = H2CO3; 3.07e-05\n",
      "H2CO3 = H+ + HCO3-; 0.000251\n",
      "HCO3- = CO3-2 + H+; 4.69e-11\n",
      "CaCO3(s) = CO3-2 + Ca+2; 3.3e-09\n"
     ]
    }
   ],
   "source": [
    "species = [Species.from_formula(s) for s in species_keys]\n",
    "reactions = [Equilibrium.from_string(s, species_keys) for s in eq_str.split('\\n')[1:-1]]\n",
    "print('\\n'.join(map(str , reactions)))\n"
   ]
  },
  {
   "cell_type": "code",
   "execution_count": null,
   "metadata": {},
   "outputs": [],
   "source": []
  }
 ],
 "metadata": {
  "kernelspec": {
   "display_name": "Python 3",
   "language": "python",
   "name": "python3"
  },
  "language_info": {
   "codemirror_mode": {
    "name": "ipython",
    "version": 3
   },
   "file_extension": ".py",
   "mimetype": "text/x-python",
   "name": "python",
   "nbconvert_exporter": "python",
   "pygments_lexer": "ipython3",
   "version": "3.8.5"
  }
 },
 "nbformat": 4,
 "nbformat_minor": 4
}
